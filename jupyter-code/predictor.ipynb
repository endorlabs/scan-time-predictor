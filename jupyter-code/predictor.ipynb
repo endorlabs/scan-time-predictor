{
 "cells": [
  {
   "cell_type": "code",
   "execution_count": 40,
   "id": "160c6cad-55db-4d9f-b181-5f79c45fa2e8",
   "metadata": {
    "scrolled": true
   },
   "outputs": [
    {
     "name": "stdout",
     "output_type": "stream",
     "text": [
      "Requirement already satisfied: pandas in ./.local/lib/python3.8/site-packages (from -r requirements.txt (line 1)) (2.0.3)\n",
      "Requirement already satisfied: joblib in ./.local/lib/python3.8/site-packages (from -r requirements.txt (line 2)) (1.3.2)\n",
      "Requirement already satisfied: scikit-learn==1.3.1 in ./.local/lib/python3.8/site-packages (from -r requirements.txt (line 3)) (1.3.1)\n",
      "Requirement already satisfied: numpy>=1.20.3; python_version < \"3.10\" in ./.local/lib/python3.8/site-packages (from pandas->-r requirements.txt (line 1)) (1.24.4)\n",
      "Requirement already satisfied: pytz>=2020.1 in ./.local/lib/python3.8/site-packages (from pandas->-r requirements.txt (line 1)) (2023.3.post1)\n",
      "Requirement already satisfied: python-dateutil>=2.8.2 in ./.local/lib/python3.8/site-packages (from pandas->-r requirements.txt (line 1)) (2.8.2)\n",
      "Requirement already satisfied: tzdata>=2022.1 in ./.local/lib/python3.8/site-packages (from pandas->-r requirements.txt (line 1)) (2023.3)\n",
      "Requirement already satisfied: scipy>=1.5.0 in ./.local/lib/python3.8/site-packages (from scikit-learn==1.3.1->-r requirements.txt (line 3)) (1.10.1)\n",
      "Requirement already satisfied: threadpoolctl>=2.0.0 in ./.local/lib/python3.8/site-packages (from scikit-learn==1.3.1->-r requirements.txt (line 3)) (3.2.0)\n",
      "Requirement already satisfied: six>=1.5 in /usr/lib/python3/dist-packages (from python-dateutil>=2.8.2->pandas->-r requirements.txt (line 1)) (1.14.0)\n",
      "Note: you may need to restart the kernel to use updated packages.\n"
     ]
    }
   ],
   "source": [
    "pip install -r requirements.txt"
   ]
  },
  {
   "cell_type": "code",
   "execution_count": 41,
   "id": "501effdf-f0d1-4283-9758-c0e93a630b62",
   "metadata": {},
   "outputs": [],
   "source": [
    "import pandas as pd\n",
    "import joblib"
   ]
  },
  {
   "cell_type": "code",
   "execution_count": 42,
   "id": "8dd61b30-ff6a-4c60-88c2-6053ff7801c4",
   "metadata": {},
   "outputs": [],
   "source": [
    "def predict(language,build_tool,lines_of_code,package_count,dependency_count,no_of_cpu_cores,memory):\n",
    "\n",
    "    try:\n",
    "        # Valid combinations of language and build_tool\n",
    "        valid_combinations = {\n",
    "            'java': ['maven', 'gradle'],\n",
    "            'python': ['pip']\n",
    "        }\n",
    "    \n",
    "        if language.lower() in valid_combinations and build_tool.lower() not in valid_combinations[language.lower()]:\n",
    "            raise ValueError(f\"The combination of language '{language}' and build_tool '{build_tool}' is not correct.\")\n",
    "    \n",
    "        \n",
    "    \n",
    "        # Load the trained models for prediction\n",
    "        loaded_quick_scan_model = joblib.load('quick_scan_model'+'_'+language+'_'+build_tool+'.pkl')\n",
    "        loaded_full_scan_model = joblib.load('full_scan_model'+'_'+language+'_'+build_tool+'.pkl')\n",
    "    \n",
    "        # Example input data for prediction\n",
    "        input_data = {\n",
    "            'LinesofCode': [lines_of_code],\n",
    "            'PackageCount': [package_count],\n",
    "            'DependencyCount': [dependency_count],\n",
    "            'TotalCPUCores': [no_of_cpu_cores],\n",
    "            'TotalMemory': [memory]\n",
    "        }\n",
    "    \n",
    "        # Convert the input data to a DataFrame\n",
    "        input_df = pd.DataFrame(input_data)\n",
    "    \n",
    "        # Make predictions using the loaded models\n",
    "        quick_scan_prediction = loaded_quick_scan_model.predict(input_df)\n",
    "        full_scan_prediction = loaded_full_scan_model.predict(input_df)\n",
    "    \n",
    "        # Display the predictions\n",
    "        print(f\"\\nPredicted Quick Scan Duration: {quick_scan_prediction[0]} seconds\")\n",
    "        print(f\"Predicted Full Scan Duration: {full_scan_prediction[0]} seconds\")\n",
    "        \n",
    "    except ValueError as e:\n",
    "        print(f\"Error: {e}\")\n",
    "\n"
   ]
  },
  {
   "cell_type": "code",
   "execution_count": 43,
   "id": "6e359055-6a09-4605-a8a2-f48294db13e8",
   "metadata": {},
   "outputs": [],
   "source": [
    "# NOTE: As of now we are predicting only for java/gradle , java/maven and python/pip language/build_tool combination."
   ]
  },
  {
   "cell_type": "code",
   "execution_count": 46,
   "id": "d6f784b5-b974-411a-88b5-17db09331299",
   "metadata": {
    "scrolled": true
   },
   "outputs": [
    {
     "name": "stdout",
     "output_type": "stream",
     "text": [
      "\n",
      "Predicted Quick Scan Duration: 51.14 seconds\n",
      "Predicted Full Scan Duration: 368.32 seconds\n"
     ]
    }
   ],
   "source": [
    "predict(language=\"python\",build_tool=\"pip\",lines_of_code=12000,package_count=3,dependency_count=40,no_of_cpu_cores=16,memory=64)"
   ]
  },
  {
   "cell_type": "code",
   "execution_count": null,
   "id": "ca610245-6243-404c-b974-01abbc5aa529",
   "metadata": {},
   "outputs": [],
   "source": []
  }
 ],
 "metadata": {
  "kernelspec": {
   "display_name": "Python 3 (ipykernel)",
   "language": "python",
   "name": "python3"
  },
  "language_info": {
   "codemirror_mode": {
    "name": "ipython",
    "version": 3
   },
   "file_extension": ".py",
   "mimetype": "text/x-python",
   "name": "python",
   "nbconvert_exporter": "python",
   "pygments_lexer": "ipython3",
   "version": "3.8.10"
  }
 },
 "nbformat": 4,
 "nbformat_minor": 5
}
